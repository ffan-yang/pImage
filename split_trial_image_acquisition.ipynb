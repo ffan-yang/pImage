{
 "cells": [
  {
   "cell_type": "code",
   "execution_count": null,
   "id": "0c6f9400",
   "metadata": {},
   "outputs": [],
   "source": [
    "import os, sys \n",
    "sys.path.append(r\"C:\\Users\\YangF\\Desktop\\PROJECT\")\n",
    "\n",
    "import pImage\n",
    "import math\n",
    "import matplotlib.pyplot as plt\n",
    "import numpy as np\n",
    "from nptdms import TdmsFile"
   ]
  },
  {
   "cell_type": "code",
   "execution_count": null,
   "id": "4a9f1a12",
   "metadata": {},
   "outputs": [],
   "source": [
    "date_manip = '20221221'\n",
    "animal_list = 'FY8_2'\n",
    "hiris_name = ''\n",
    "# read folder\n",
    "hiris_folder_base = r'\\\\157.136.60.15\\EqShulz\\Fan\\DATA_MICE_FAN\\Batch_DECEMBER2022\\hiris_raw'\n",
    "labview_folder_base = r'\\\\157.136.60.15\\EqShulz\\Fan\\DATA_MICE_FAN\\Batch_DECEMBER2022\\LABVIEW'\n",
    "hiris_file_folder = os.path.join(hiris_folder_base,date_manip,animal_name,hiris_name)\n",
    "labview_dir = os.path.join(labview_folder_base,date_manip,animal_name)"
   ]
  },
  {
   "cell_type": "code",
   "execution_count": null,
   "id": "c93c6cbe",
   "metadata": {},
   "outputs": [],
   "source": [
    "input_labview_path = os.path.joinlabview_dir,'AI.tdms')\n",
    "input_video_path = os.path.join(hiris_file_folder,'sequence.seq')\n",
    "output_video_folder = os.path.join(r'\\\\157.136.60.15\\EqShulz\\Fan\\DATA_MICE_FAN\\Batch_DECEMBER2022\\HIRIS',date_manip,animal_name,'movie')\n",
    "print(input_labview_path)\n",
    "print(input_video_path)\n",
    "print(output_video_folder)"
   ]
  },
  {
   "cell_type": "code",
   "execution_count": null,
   "id": "f91d66fd",
   "metadata": {},
   "outputs": [],
   "source": [
    "def edge_detection(signal,threshold):\n",
    "    rising_edge_index = np.where((signal [:-1] < threshold) & (signal [1:] > threshold))\n",
    "    rising_edge_index = rising_edge_index[0]+1\n",
    "    falling_edge_index = np.where((signal [:-1] > threshold) & (signal [1:] < threshold))\n",
    "    falling_edge_index = falling_edge_index[0]\n",
    "    return rising_edge_index,falling_edge_index"
   ]
  },
  {
   "cell_type": "code",
   "execution_count": null,
   "id": "a7ad12fa",
   "metadata": {},
   "outputs": [],
   "source": [
    "AI_data = TdmsFile.read(input_labview_path)\n",
    "group_name = AI_data.groups()\n",
    "group_channels = AI_data['Untitled'].channels()\n",
    "imacq = (AI_data['Untitled']['Untitled 13'][:]>trigger_val ).astype(int)\n",
    "imacq = desample_signal(imacq,bin_size)"
   ]
  },
  {
   "cell_type": "code",
   "execution_count": null,
   "id": "d2080db6",
   "metadata": {},
   "outputs": [],
   "source": [
    "# read task parameters to read the labview analog sampling rate\n",
    "f = open(os.path.join(labview_dir,\"trainingPara\"),'r')\n",
    "Task_data = f.readlines()\n",
    "for para in Task_data:\n",
    "    TASK_data = para.split(' ')\n",
    "fs_labview = int(float(TASK_data[12]))*2\n",
    "image_duration = 4096 #int(float(TASK_data[15])*500/1000)\n",
    "ntrial = int(float(TASK_data[17]))"
   ]
  },
  {
   "cell_type": "code",
   "execution_count": null,
   "id": "7a3e9eaa",
   "metadata": {},
   "outputs": [],
   "source": [
    "imacq= np.array(imacq)\n",
    "imacq_start,_ = edge_detection(imacq,0.5)\n",
    "# check if the amount of recorded trials \n",
    "if np.shape(imacq_start)[0] != np.shape(micam_seq)[0]:\n",
    "    print('ERROR')\n",
    "imacq_end = imacq_start + image_duration"
   ]
  },
  {
   "cell_type": "code",
   "execution_count": null,
   "id": "28f32aeb",
   "metadata": {},
   "outputs": [],
   "source": []
  },
  {
   "cell_type": "code",
   "execution_count": null,
   "id": "76c68b84",
   "metadata": {},
   "outputs": [],
   "source": [
    "# read trial finish time stamps from Labview\n",
    "tdms_file = TdmsFile.read(input_labview_path)\n",
    "channel = tdms_file['Untitled']['Untitled 2']\n",
    "trial_finish = channel[:]/fs_clock\n",
    "# trial finsih time in second\n",
    "trial_finish_sec = trial_finish[trial_finish != 0]\n",
    "ntrial = len(trial_finish_sec)\n",
    "print(ntrial)\n",
    "# trial finish with frame number\n",
    "trial_finish_frame = np.floor(trial_finish_sec*fs_hiris)\n",
    "trial_finish_frame = trial_finish_frame.astype(int)\n",
    "trial_start_frame = np.insert(trial_finish_frame[:-1]+1,0,0)"
   ]
  }
 ],
 "metadata": {
  "kernelspec": {
   "display_name": "Python 3 (ipykernel)",
   "language": "python",
   "name": "python3"
  },
  "language_info": {
   "codemirror_mode": {
    "name": "ipython",
    "version": 3
   },
   "file_extension": ".py",
   "mimetype": "text/x-python",
   "name": "python",
   "nbconvert_exporter": "python",
   "pygments_lexer": "ipython3",
   "version": "3.8.12"
  }
 },
 "nbformat": 4,
 "nbformat_minor": 5
}
