{
 "cells": [
  {
   "cell_type": "markdown",
   "id": "1be13dcb",
   "metadata": {},
   "source": [
    "## Load Trial Info from Labview file"
   ]
  },
  {
   "cell_type": "code",
   "execution_count": 15,
   "id": "700969d2",
   "metadata": {},
   "outputs": [
    {
     "name": "stdout",
     "output_type": "stream",
     "text": [
      "Requirement already satisfied: npTDMS in c:\\users\\yangf\\anaconda3\\lib\\site-packages (1.6.0)\n",
      "Requirement already satisfied: numpy in c:\\users\\yangf\\anaconda3\\lib\\site-packages (from npTDMS) (1.20.3)\n",
      "Note: you may need to restart the kernel to use updated packages.\n",
      "Requirement already satisfied: npTDMS[hdf,pandas,thermocouple_scaling] in c:\\users\\yangf\\anaconda3\\lib\\site-packages (1.6.0)\n",
      "Requirement already satisfied: numpy in c:\\users\\yangf\\anaconda3\\lib\\site-packages (from npTDMS[hdf,pandas,thermocouple_scaling]) (1.20.3)\n",
      "Requirement already satisfied: h5py>=2.10.0 in c:\\users\\yangf\\anaconda3\\lib\\site-packages (from npTDMS[hdf,pandas,thermocouple_scaling]) (3.2.1)\n",
      "Requirement already satisfied: pandas in c:\\users\\yangf\\anaconda3\\lib\\site-packages (from npTDMS[hdf,pandas,thermocouple_scaling]) (1.3.4)\n",
      "Requirement already satisfied: python-dateutil>=2.7.3 in c:\\users\\yangf\\anaconda3\\lib\\site-packages (from pandas->npTDMS[hdf,pandas,thermocouple_scaling]) (2.8.2)\n",
      "Requirement already satisfied: pytz>=2017.3 in c:\\users\\yangf\\anaconda3\\lib\\site-packages (from pandas->npTDMS[hdf,pandas,thermocouple_scaling]) (2021.3)\n",
      "Requirement already satisfied: six>=1.5 in c:\\users\\yangf\\anaconda3\\lib\\site-packages (from python-dateutil>=2.7.3->pandas->npTDMS[hdf,pandas,thermocouple_scaling]) (1.16.0)\n",
      "Note: you may need to restart the kernel to use updated packages.\n"
     ]
    },
    {
     "name": "stderr",
     "output_type": "stream",
     "text": [
      "UsageError: Line magic function `%python` not found (But cell magic `%%python` exists, did you mean that instead?).\n"
     ]
    }
   ],
   "source": [
    "%pip install npTDMS\n",
    "%pip install npTDMS[hdf,pandas,thermocouple_scaling]"
   ]
  },
  {
   "cell_type": "code",
   "execution_count": 1,
   "id": "9287b518",
   "metadata": {},
   "outputs": [],
   "source": [
    "import numpy as np\n",
    "from nptdms import TdmsFile"
   ]
  },
  {
   "cell_type": "code",
   "execution_count": 2,
   "id": "7e338fb8",
   "metadata": {},
   "outputs": [],
   "source": [
    "tdms_file = TdmsFile.read(r'\\\\157.136.60.15\\EqShulz\\Fan\\DATA_MICE_FAN\\DATA_FY3\\LABVIEW\\20221019\\TimeStamps.tdms')"
   ]
  },
  {
   "cell_type": "code",
   "execution_count": 3,
   "id": "433e5fe4",
   "metadata": {},
   "outputs": [
    {
     "name": "stdout",
     "output_type": "stream",
     "text": [
      "[<TdmsGroup with path /'Untitled'>]\n"
     ]
    },
    {
     "data": {
      "text/plain": [
       "[<TdmsChannel with path /'Untitled'/'Untitled'>,\n",
       " <TdmsChannel with path /'Untitled'/'Untitled 1'>,\n",
       " <TdmsChannel with path /'Untitled'/'Untitled 2'>,\n",
       " <TdmsChannel with path /'Untitled'/'Untitled 3'>,\n",
       " <TdmsChannel with path /'Untitled'/'Untitled 4'>,\n",
       " <TdmsChannel with path /'Untitled'/'Untitled 5'>,\n",
       " <TdmsChannel with path /'Untitled'/'Untitled 6'>,\n",
       " <TdmsChannel with path /'Untitled'/'Untitled 7'>,\n",
       " <TdmsChannel with path /'Untitled'/'Untitled 8'>,\n",
       " <TdmsChannel with path /'Untitled'/'Untitled 9'>,\n",
       " <TdmsChannel with path /'Untitled'/'Untitled 10'>]"
      ]
     },
     "execution_count": 3,
     "metadata": {},
     "output_type": "execute_result"
    }
   ],
   "source": [
    "group_name = tdms_file.groups()\n",
    "print(group_name)\n",
    "group_channels = tdms_file['Untitled'].channels()\n",
    "group_channels"
   ]
  },
  {
   "cell_type": "code",
   "execution_count": 4,
   "id": "5c800137",
   "metadata": {},
   "outputs": [],
   "source": [
    "fs_clock = 1000\n",
    "channel = tdms_file['Untitled']['Untitled 2']\n",
    "trial_finish = channel[:]\n",
    "trial_finish = trial_finish/fs_clock"
   ]
  },
  {
   "cell_type": "code",
   "execution_count": 5,
   "id": "20028ad5",
   "metadata": {},
   "outputs": [
    {
     "name": "stdout",
     "output_type": "stream",
     "text": [
      "[ 136.918  163.332  164.644  172.887  194.365  221.332  245.332  331.758\n",
      "  374.705  377.508  396.708  401.786  461.054  479.745  498.339  533.069\n",
      "  626.085  631.583  662.358  702.4    838.502  855.06   889.14   911.197\n",
      "  934.134  981.864 1013.542 1034.013 1077.5   1112.275 1139.023 1176.253\n",
      " 1214.577 1226.808 1238.741 1241.736 1300.047 1391.281 1447.936 1483.017\n",
      " 1518.864 1530.596 1559.524 1577.944 1619.791 1646.173 1652.016 1669.97\n",
      " 1686.065 1706.639 1763.762 1773.938 1802.692 1804.99  1823.638 1845.672\n",
      " 1899.744 1908.508 1967.526 2143.02  2218.683 2267.585 2270.1   2311.559\n",
      " 2312.536 2321.404 2347.423]\n",
      "67\n"
     ]
    }
   ],
   "source": [
    "\n",
    "# trial finsih time in second\n",
    "trial_finish_sec = trial_finish[trial_finish != 0]\n",
    "print(trial_finish_sec)\n",
    "ntrial = len(trial_finish_sec)\n",
    "print(ntrial)"
   ]
  },
  {
   "cell_type": "code",
   "execution_count": 9,
   "id": "86ec1cf5",
   "metadata": {},
   "outputs": [
    {
     "name": "stdout",
     "output_type": "stream",
     "text": [
      "[      0   68460   81667   82323   86444   97183  110667  122667  165880\n",
      "  187353  188755  198355  200894  230528  239873  249170  266535  313043\n",
      "  315792  331180  351201  419252  427531  444571  455599  467068  490933\n",
      "  506772  517007  538751  556138  569512  588127  607289  613405  619371\n",
      "  620869  650024  695641  723969  741509  759433  765299  779763  788973\n",
      "  809896  823087  826009  834986  843033  853320  881882  886970  901347\n",
      "  902496  911820  922837  949873  954255  983764 1071511 1109342 1133793\n",
      " 1135051 1155780 1156269 1160703]\n",
      "[  68459   81666   82322   86443   97182  110666  122666  165879  187352\n",
      "  188754  198354  200893  230527  239872  249169  266534  313042  315791\n",
      "  331179  351200  419251  427530  444570  455598  467067  490932  506771\n",
      "  517006  538750  556137  569511  588126  607288  613404  619370  620868\n",
      "  650023  695640  723968  741508  759432  765298  779762  788972  809895\n",
      "  823086  826008  834985  843032  853319  881881  886969  901346  902495\n",
      "  911819  922836  949872  954254  983763 1071510 1109341 1133792 1135050\n",
      " 1155779 1156268 1160702 1173711]\n"
     ]
    }
   ],
   "source": [
    "fs_hiris = 500\n",
    "# trial finish with frame number\n",
    "trial_finish_frame = np.floor(trial_finish_sec*fs_hiris)\n",
    "trial_finish_frame = trial_finish_frame.astype(int)\n",
    "trial_start_frame = np.insert(trial_finish_frame[:-1]+1,0,0)\n",
    "print(trial_start_frame)\n",
    "print(trial_finish_frame)"
   ]
  },
  {
   "cell_type": "code",
   "execution_count": null,
   "id": "68191a22",
   "metadata": {},
   "outputs": [],
   "source": []
  }
 ],
 "metadata": {
  "kernelspec": {
   "display_name": "Python 3 (ipykernel)",
   "language": "python",
   "name": "python3"
  },
  "language_info": {
   "codemirror_mode": {
    "name": "ipython",
    "version": 3
   },
   "file_extension": ".py",
   "mimetype": "text/x-python",
   "name": "python",
   "nbconvert_exporter": "python",
   "pygments_lexer": "ipython3",
   "version": "3.9.7"
  }
 },
 "nbformat": 4,
 "nbformat_minor": 5
}
