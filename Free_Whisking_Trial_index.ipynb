{
 "cells": [
  {
   "cell_type": "markdown",
   "id": "1be13dcb",
   "metadata": {},
   "source": [
    "## Load Trial Info from Labview file"
   ]
  },
  {
   "cell_type": "code",
   "execution_count": 15,
   "id": "700969d2",
   "metadata": {},
   "outputs": [
    {
     "name": "stdout",
     "output_type": "stream",
     "text": [
      "Requirement already satisfied: npTDMS in c:\\users\\yangf\\anaconda3\\lib\\site-packages (1.6.0)\n",
      "Requirement already satisfied: numpy in c:\\users\\yangf\\anaconda3\\lib\\site-packages (from npTDMS) (1.20.3)\n",
      "Note: you may need to restart the kernel to use updated packages.\n",
      "Requirement already satisfied: npTDMS[hdf,pandas,thermocouple_scaling] in c:\\users\\yangf\\anaconda3\\lib\\site-packages (1.6.0)\n",
      "Requirement already satisfied: numpy in c:\\users\\yangf\\anaconda3\\lib\\site-packages (from npTDMS[hdf,pandas,thermocouple_scaling]) (1.20.3)\n",
      "Requirement already satisfied: h5py>=2.10.0 in c:\\users\\yangf\\anaconda3\\lib\\site-packages (from npTDMS[hdf,pandas,thermocouple_scaling]) (3.2.1)\n",
      "Requirement already satisfied: pandas in c:\\users\\yangf\\anaconda3\\lib\\site-packages (from npTDMS[hdf,pandas,thermocouple_scaling]) (1.3.4)\n",
      "Requirement already satisfied: python-dateutil>=2.7.3 in c:\\users\\yangf\\anaconda3\\lib\\site-packages (from pandas->npTDMS[hdf,pandas,thermocouple_scaling]) (2.8.2)\n",
      "Requirement already satisfied: pytz>=2017.3 in c:\\users\\yangf\\anaconda3\\lib\\site-packages (from pandas->npTDMS[hdf,pandas,thermocouple_scaling]) (2021.3)\n",
      "Requirement already satisfied: six>=1.5 in c:\\users\\yangf\\anaconda3\\lib\\site-packages (from python-dateutil>=2.7.3->pandas->npTDMS[hdf,pandas,thermocouple_scaling]) (1.16.0)\n",
      "Note: you may need to restart the kernel to use updated packages.\n"
     ]
    },
    {
     "name": "stderr",
     "output_type": "stream",
     "text": [
      "UsageError: Line magic function `%python` not found (But cell magic `%%python` exists, did you mean that instead?).\n"
     ]
    }
   ],
   "source": [
    "%pip install npTDMS\n",
    "%pip install npTDMS[hdf,pandas,thermocouple_scaling]"
   ]
  },
  {
   "cell_type": "code",
   "execution_count": 1,
   "id": "9287b518",
   "metadata": {},
   "outputs": [],
   "source": [
    "import numpy as np\n",
    "from nptdms import TdmsFile\n",
    "import os\n",
    "import matplotlib.pyplot as plt\n"
   ]
  },
  {
   "cell_type": "code",
   "execution_count": 83,
   "id": "c01fb7c1",
   "metadata": {},
   "outputs": [],
   "source": [
    "# read folder\n",
    "hiris_folder_base = r'\\\\157.136.60.15\\EqShulz\\Fan\\DATA_MICE_FAN\\Batch_DECEMBER2022\\hiris_raw'\n",
    "labview_folder_base = r'\\\\157.136.60.15\\EqShulz\\Fan\\DATA_MICE_FAN\\Batch_DECEMBER2022\\LABVIEW'\n",
    "# choose date\n",
    "date_manip = '20221206'\n",
    "animal_list = os. listdir(os.path.join(hiris_folder_base,date_manip))"
   ]
  },
  {
   "cell_type": "code",
   "execution_count": 84,
   "id": "3d293c46",
   "metadata": {},
   "outputs": [
    {
     "data": {
      "text/plain": [
       "['FY4', 'FY5', 'FY6', 'FY7', 'FY8']"
      ]
     },
     "execution_count": 84,
     "metadata": {},
     "output_type": "execute_result"
    }
   ],
   "source": [
    "animal_list"
   ]
  },
  {
   "cell_type": "code",
   "execution_count": 88,
   "id": "54362dd1",
   "metadata": {},
   "outputs": [
    {
     "data": {
      "text/plain": [
       "True"
      ]
     },
     "execution_count": 88,
     "metadata": {},
     "output_type": "execute_result"
    }
   ],
   "source": [
    "len(hiris_list) == 1"
   ]
  },
  {
   "cell_type": "code",
   "execution_count": 91,
   "id": "8a358d08",
   "metadata": {},
   "outputs": [
    {
     "name": "stdout",
     "output_type": "stream",
     "text": [
      "FY4\n",
      "\\\\157.136.60.15\\EqShulz\\Fan\\DATA_MICE_FAN\\Batch_DECEMBER2022\\LABVIEW\\20221206\\FY4\\TimeStamps.tdms\n",
      "\\\\157.136.60.15\\EqShulz\\Fan\\DATA_MICE_FAN\\Batch_DECEMBER2022\\hiris_raw\\20221206\\FY4\\2022-12-06T13.45.33\\sequence.seq\n",
      "\\\\157.136.60.15\\EqShulz\\Fan\\DATA_MICE_FAN\\Batch_DECEMBER2022\\HIRIS\\20221206\\FY4\\movie\n",
      "FY5\n",
      "\\\\157.136.60.15\\EqShulz\\Fan\\DATA_MICE_FAN\\Batch_DECEMBER2022\\LABVIEW\\20221206\\FY5\\TimeStamps.tdms\n",
      "\\\\157.136.60.15\\EqShulz\\Fan\\DATA_MICE_FAN\\Batch_DECEMBER2022\\hiris_raw\\20221206\\FY5\\2022-12-06T16.02.54\\sequence.seq\n",
      "\\\\157.136.60.15\\EqShulz\\Fan\\DATA_MICE_FAN\\Batch_DECEMBER2022\\HIRIS\\20221206\\FY5\\movie\n",
      "FY6\n",
      "\\\\157.136.60.15\\EqShulz\\Fan\\DATA_MICE_FAN\\Batch_DECEMBER2022\\LABVIEW\\20221206\\FY6\\TimeStamps.tdms\n",
      "\\\\157.136.60.15\\EqShulz\\Fan\\DATA_MICE_FAN\\Batch_DECEMBER2022\\hiris_raw\\20221206\\FY6\\2022-12-06T14.38.13\\sequence.seq\n",
      "\\\\157.136.60.15\\EqShulz\\Fan\\DATA_MICE_FAN\\Batch_DECEMBER2022\\HIRIS\\20221206\\FY6\\movie\n",
      "FY7\n",
      "\\\\157.136.60.15\\EqShulz\\Fan\\DATA_MICE_FAN\\Batch_DECEMBER2022\\LABVIEW\\20221206\\FY7\\TimeStamps.tdms\n",
      "\\\\157.136.60.15\\EqShulz\\Fan\\DATA_MICE_FAN\\Batch_DECEMBER2022\\hiris_raw\\20221206\\FY7\\2022-12-06T15.08.31\\sequence.seq\n",
      "\\\\157.136.60.15\\EqShulz\\Fan\\DATA_MICE_FAN\\Batch_DECEMBER2022\\HIRIS\\20221206\\FY7\\movie\n",
      "FY8\n",
      "\\\\157.136.60.15\\EqShulz\\Fan\\DATA_MICE_FAN\\Batch_DECEMBER2022\\LABVIEW\\20221206\\FY8\\TimeStamps.tdms\n",
      "\\\\157.136.60.15\\EqShulz\\Fan\\DATA_MICE_FAN\\Batch_DECEMBER2022\\hiris_raw\\20221206\\FY8\\2022-12-06T15.39.34\\sequence.seq\n",
      "\\\\157.136.60.15\\EqShulz\\Fan\\DATA_MICE_FAN\\Batch_DECEMBER2022\\HIRIS\\20221206\\FY8\\movie\n"
     ]
    }
   ],
   "source": [
    "# and animal name\n",
    "for animal_name in animal_list:\n",
    "    hiris_list = os. listdir(os.path.join(hiris_folder_base,date_manip,animal_name))\n",
    "    print(animal_name)\n",
    "    if len(hiris_list) == 1:\n",
    "        \n",
    "        hiris_file_folder = os.path.join(hiris_folder_base,date_manip,animal_name,hiris_list[0])\n",
    "        tdms_file_folder = os.path.join(labview_folder_base,date_manip,animal_name)\n",
    "\n",
    "        input_labview_path = os.path.join(tdms_file_folder,'TimeStamps.tdms')\n",
    "        input_video_path = os.path.join(hiris_file_folder,'sequence.seq')\n",
    "        output_video_folder = os.path.join(r'\\\\157.136.60.15\\EqShulz\\Fan\\DATA_MICE_FAN\\Batch_DECEMBER2022\\HIRIS',date_manip,animal_name,'movie')\n",
    "        print(input_labview_path)\n",
    "        print(input_video_path)\n",
    "        print(output_video_folder)\n",
    "    else:\n",
    "        print('error')"
   ]
  },
  {
   "cell_type": "markdown",
   "id": "1c3d6b03",
   "metadata": {},
   "source": [
    "# for hiris with more than one video"
   ]
  },
  {
   "cell_type": "code",
   "execution_count": 48,
   "id": "09b81701",
   "metadata": {},
   "outputs": [
    {
     "name": "stdout",
     "output_type": "stream",
     "text": [
      "\\\\157.136.60.15\\EqShulz\\Fan\\DATA_MICE_FAN\\Batch_DECEMBER2022\\hiris_raw\\20221205\\FY4\\2022-12-05T15.16.14\\sequence.seq\n",
      "\\\\157.136.60.15\\EqShulz\\Fan\\DATA_MICE_FAN\\Batch_DECEMBER2022\\LABVIEW\\20221205\\FY4\\2022-12-05T15.16.14\\TimeStamps.tdms\n",
      "\\\\157.136.60.15\\EqShulz\\Fan\\DATA_MICE_FAN\\Batch_DECEMBER2022\\HIRIS\\20221205\\FY4\\2022-12-05T15.16.14\n",
      "\\\\157.136.60.15\\EqShulz\\Fan\\DATA_MICE_FAN\\Batch_DECEMBER2022\\hiris_raw\\20221205\\FY4\\2022-12-05T15.37.00\\sequence.seq\n",
      "\\\\157.136.60.15\\EqShulz\\Fan\\DATA_MICE_FAN\\Batch_DECEMBER2022\\LABVIEW\\20221205\\FY4\\2022-12-05T15.37.00\\TimeStamps.tdms\n",
      "\\\\157.136.60.15\\EqShulz\\Fan\\DATA_MICE_FAN\\Batch_DECEMBER2022\\HIRIS\\20221205\\FY4\\2022-12-05T15.37.00\n",
      "\\\\157.136.60.15\\EqShulz\\Fan\\DATA_MICE_FAN\\Batch_DECEMBER2022\\hiris_raw\\20221205\\FY5\\2022-12-05T16.07.30\\sequence.seq\n",
      "\\\\157.136.60.15\\EqShulz\\Fan\\DATA_MICE_FAN\\Batch_DECEMBER2022\\LABVIEW\\20221205\\FY5\\2022-12-05T16.07.30\\TimeStamps.tdms\n",
      "\\\\157.136.60.15\\EqShulz\\Fan\\DATA_MICE_FAN\\Batch_DECEMBER2022\\HIRIS\\20221205\\FY5\\2022-12-05T16.07.30\n",
      "\\\\157.136.60.15\\EqShulz\\Fan\\DATA_MICE_FAN\\Batch_DECEMBER2022\\hiris_raw\\20221205\\FY5\\2022-12-05T16.23.55\\sequence.seq\n",
      "\\\\157.136.60.15\\EqShulz\\Fan\\DATA_MICE_FAN\\Batch_DECEMBER2022\\LABVIEW\\20221205\\FY5\\2022-12-05T16.23.55\\TimeStamps.tdms\n",
      "\\\\157.136.60.15\\EqShulz\\Fan\\DATA_MICE_FAN\\Batch_DECEMBER2022\\HIRIS\\20221205\\FY5\\2022-12-05T16.23.55\n",
      "\\\\157.136.60.15\\EqShulz\\Fan\\DATA_MICE_FAN\\Batch_DECEMBER2022\\hiris_raw\\20221205\\FY6\\2022-12-05T16.50.54\\sequence.seq\n",
      "\\\\157.136.60.15\\EqShulz\\Fan\\DATA_MICE_FAN\\Batch_DECEMBER2022\\LABVIEW\\20221205\\FY6\\2022-12-05T16.50.54\\TimeStamps.tdms\n",
      "\\\\157.136.60.15\\EqShulz\\Fan\\DATA_MICE_FAN\\Batch_DECEMBER2022\\HIRIS\\20221205\\FY6\\2022-12-05T16.50.54\n",
      "\\\\157.136.60.15\\EqShulz\\Fan\\DATA_MICE_FAN\\Batch_DECEMBER2022\\hiris_raw\\20221205\\FY6\\2022-12-05T16.51.46\\sequence.seq\n",
      "\\\\157.136.60.15\\EqShulz\\Fan\\DATA_MICE_FAN\\Batch_DECEMBER2022\\LABVIEW\\20221205\\FY6\\2022-12-05T16.51.46\\TimeStamps.tdms\n",
      "\\\\157.136.60.15\\EqShulz\\Fan\\DATA_MICE_FAN\\Batch_DECEMBER2022\\HIRIS\\20221205\\FY6\\2022-12-05T16.51.46\n",
      "\\\\157.136.60.15\\EqShulz\\Fan\\DATA_MICE_FAN\\Batch_DECEMBER2022\\hiris_raw\\20221205\\FY7\\2022-12-05T17.35.44\\sequence.seq\n",
      "\\\\157.136.60.15\\EqShulz\\Fan\\DATA_MICE_FAN\\Batch_DECEMBER2022\\LABVIEW\\20221205\\FY7\\2022-12-05T17.35.44\\TimeStamps.tdms\n",
      "\\\\157.136.60.15\\EqShulz\\Fan\\DATA_MICE_FAN\\Batch_DECEMBER2022\\HIRIS\\20221205\\FY7\\2022-12-05T17.35.44\n",
      "\\\\157.136.60.15\\EqShulz\\Fan\\DATA_MICE_FAN\\Batch_DECEMBER2022\\hiris_raw\\20221205\\FY7\\2022-12-05T17.52.10\\sequence.seq\n",
      "\\\\157.136.60.15\\EqShulz\\Fan\\DATA_MICE_FAN\\Batch_DECEMBER2022\\LABVIEW\\20221205\\FY7\\2022-12-05T17.52.10\\TimeStamps.tdms\n",
      "\\\\157.136.60.15\\EqShulz\\Fan\\DATA_MICE_FAN\\Batch_DECEMBER2022\\HIRIS\\20221205\\FY7\\2022-12-05T17.52.10\n",
      "\\\\157.136.60.15\\EqShulz\\Fan\\DATA_MICE_FAN\\Batch_DECEMBER2022\\hiris_raw\\20221205\\FY8\\2022-12-05T18.16.41\\sequence.seq\n",
      "\\\\157.136.60.15\\EqShulz\\Fan\\DATA_MICE_FAN\\Batch_DECEMBER2022\\LABVIEW\\20221205\\FY8\\2022-12-05T18.16.41\\TimeStamps.tdms\n",
      "\\\\157.136.60.15\\EqShulz\\Fan\\DATA_MICE_FAN\\Batch_DECEMBER2022\\HIRIS\\20221205\\FY8\\2022-12-05T18.16.41\n"
     ]
    }
   ],
   "source": [
    "# and animal name\n",
    "for animal_name in animal_list:\n",
    "    hiris_list = os. listdir(os.path.join(hiris_folder_base,date_manip,animal_name))\n",
    "    # one tdms_file to read \n",
    "    for hiris_name in hiris_list:\n",
    "        hiris_file_folder = os.path.join(hiris_folder_base,date_manip,animal_name,hiris_name)\n",
    "        tdms_file_folder = os.path.join(labview_folder_base,date_manip,animal_name,hiris_name)\n",
    "        input_labview_path = os.path.join(tdms_file_folder,'TimeStamps.tdms')\n",
    "        input_video_path = os.path.join(hiris_file_folder,'sequence.seq')\n",
    "        output_video_folder = os.path.join(r'\\\\157.136.60.15\\EqShulz\\Fan\\DATA_MICE_FAN\\Batch_DECEMBER2022\\HIRIS',date_manip,animal_name,hiris_name)\n",
    "        print(input_video_path )\n",
    "        print(input_labview_path)     \n",
    "        print(output_video_folder)"
   ]
  },
  {
   "cell_type": "code",
   "execution_count": null,
   "id": "d1dd19c0",
   "metadata": {},
   "outputs": [],
   "source": []
  },
  {
   "cell_type": "code",
   "execution_count": 58,
   "id": "7e338fb8",
   "metadata": {},
   "outputs": [],
   "source": [
    "tdms_file = TdmsFile.read(r'\\\\157.136.60.15\\EqShulz\\Fan\\DATA_MICE_FAN\\Batch_DECEMBER2022\\LABVIEW\\20221205\\FY4\\2022-12-05T15.37.00\\TimeStamps.tdms')"
   ]
  },
  {
   "cell_type": "code",
   "execution_count": 59,
   "id": "433e5fe4",
   "metadata": {},
   "outputs": [
    {
     "name": "stdout",
     "output_type": "stream",
     "text": [
      "[<TdmsGroup with path /'Untitled'>]\n"
     ]
    },
    {
     "data": {
      "text/plain": [
       "[<TdmsChannel with path /'Untitled'/'Untitled'>,\n",
       " <TdmsChannel with path /'Untitled'/'Untitled 1'>,\n",
       " <TdmsChannel with path /'Untitled'/'Untitled 2'>]"
      ]
     },
     "execution_count": 59,
     "metadata": {},
     "output_type": "execute_result"
    }
   ],
   "source": [
    "group_name = tdms_file.groups()\n",
    "print(group_name)\n",
    "group_channels = tdms_file['Untitled'].channels()\n",
    "group_channels"
   ]
  },
  {
   "cell_type": "code",
   "execution_count": 60,
   "id": "5c800137",
   "metadata": {},
   "outputs": [],
   "source": [
    "fs_clock = 1000\n",
    "channel = tdms_file['Untitled']['Untitled 2']\n",
    "trial_finish = channel[:]\n",
    "trial_finish = trial_finish/fs_clock"
   ]
  },
  {
   "cell_type": "code",
   "execution_count": 61,
   "id": "20028ad5",
   "metadata": {},
   "outputs": [
    {
     "name": "stdout",
     "output_type": "stream",
     "text": [
      "[  9.115  18.221  27.325  36.433  45.54   54.645  63.752  72.857  81.964\n",
      "  91.067 100.17  109.28  118.386 127.493 136.596 145.7   154.81  163.917\n",
      " 173.027 182.134 191.242 200.352 209.456 218.561 227.666 236.775 245.883\n",
      " 254.986 264.09  273.195 282.301 291.408 300.514 309.618 318.725 327.827\n",
      " 336.934 346.044 355.151 364.259 373.371 382.473 391.581 400.684 409.792\n",
      " 418.901 428.005 437.11  446.214 455.319 464.432 473.539 482.647 491.752\n",
      " 500.86  509.964 519.073 528.18  537.287 546.393 555.498 564.605 573.71\n",
      " 582.821 591.928 601.035 610.136 619.24  628.345 637.458 646.565 655.666\n",
      " 664.772 673.886 682.997 692.099 701.206 710.314 719.417 728.527 737.64\n",
      " 746.749 755.859 764.977 774.083 783.192 792.304 801.352 810.461 819.567\n",
      " 828.672 837.777 846.884 855.988 865.094 874.208 883.311 892.418 901.525\n",
      " 910.628]\n",
      "100\n"
     ]
    }
   ],
   "source": [
    "\n",
    "# trial finsih time in second\n",
    "trial_finish_sec = trial_finish[trial_finish != 0]\n",
    "print(trial_finish_sec)\n",
    "ntrial = len(trial_finish_sec)\n",
    "print(ntrial)"
   ]
  },
  {
   "cell_type": "code",
   "execution_count": 62,
   "id": "86ec1cf5",
   "metadata": {},
   "outputs": [
    {
     "name": "stdout",
     "output_type": "stream",
     "text": [
      "[     0   4558   9111  13663  18217  22771  27323  31877  36429  40983\n",
      "  45534  50086  54641  59194  63747  68299  72851  77406  81959  86514\n",
      "  91068  95622 100177 104729 109281 113834 118388 122942 127494 132046\n",
      " 136598 141151 145705 150258 154810 159363 163914 168468 173023 177576\n",
      " 182130 186686 191237 195791 200343 204897 209451 214003 218556 223108\n",
      " 227660 232217 236770 241324 245877 250431 254983 259537 264091 268644\n",
      " 273197 277750 282303 286856 291411 295965 300518 305069 309621 314173\n",
      " 318730 323283 327834 332387 336944 341499 346050 350604 355158 359709\n",
      " 364264 368821 373375 377930 382489 387042 391597 396153 400677 405231\n",
      " 409784 414337 418889 423443 427995 432548 437105 441656 446210 450763]\n",
      "[  4557   9110  13662  18216  22770  27322  31876  36428  40982  45533\n",
      "  50085  54640  59193  63746  68298  72850  77405  81958  86513  91067\n",
      "  95621 100176 104728 109280 113833 118387 122941 127493 132045 136597\n",
      " 141150 145704 150257 154809 159362 163913 168467 173022 177575 182129\n",
      " 186685 191236 195790 200342 204896 209450 214002 218555 223107 227659\n",
      " 232216 236769 241323 245876 250430 254982 259536 264090 268643 273196\n",
      " 277749 282302 286855 291410 295964 300517 305068 309620 314172 318729\n",
      " 323282 327833 332386 336943 341498 346049 350603 355157 359708 364263\n",
      " 368820 373374 377929 382488 387041 391596 396152 400676 405230 409783\n",
      " 414336 418888 423442 427994 432547 437104 441655 446209 450762 455314]\n"
     ]
    }
   ],
   "source": [
    "fs_hiris = 500\n",
    "# trial finish with frame number\n",
    "trial_finish_frame = np.floor(trial_finish_sec*fs_hiris)\n",
    "trial_finish_frame = trial_finish_frame.astype(int)\n",
    "trial_start_frame = np.insert(trial_finish_frame[:-1]+1,0,0)\n",
    "print(trial_start_frame)\n",
    "print(trial_finish_frame)"
   ]
  },
  {
   "cell_type": "code",
   "execution_count": 63,
   "id": "e7635571",
   "metadata": {},
   "outputs": [],
   "source": [
    "# read the servo motor rising edge and compare with the timestamps\n",
    "AI_file = TdmsFile.read(r'\\\\157.136.60.15\\EqShulz\\Fan\\DATA_MICE_FAN\\Batch_DECEMBER2022\\LABVIEW\\20221205\\FY4\\2022-12-05T15.37.00\\AI.tdms')"
   ]
  },
  {
   "cell_type": "code",
   "execution_count": 64,
   "id": "ce738a97",
   "metadata": {},
   "outputs": [],
   "source": [
    "servo = AI_file[\"Untitled\"]['Untitled 3']"
   ]
  },
  {
   "cell_type": "code",
   "execution_count": 70,
   "id": "fabaddf9",
   "metadata": {},
   "outputs": [],
   "source": []
  },
  {
   "cell_type": "code",
   "execution_count": 66,
   "id": "e34a7b60",
   "metadata": {},
   "outputs": [
    {
     "data": {
      "text/plain": [
       "[<matplotlib.lines.Line2D at 0x229e2da8760>]"
      ]
     },
     "execution_count": 66,
     "metadata": {},
     "output_type": "execute_result"
    },
    {
     "data": {
      "image/png": "[encoded data removed]",
      "text/plain": [
       "<Figure size 432x288 with 1 Axes>"
      ]
     },
     "metadata": {
      "needs_background": "light"
     },
     "output_type": "display_data"
    }
   ],
   "source": [
    "plt.plot(servo)"
   ]
  },
  {
   "cell_type": "code",
   "execution_count": 67,
   "id": "60d33f8e",
   "metadata": {},
   "outputs": [],
   "source": [
    "def edge_detection(signal,threshold):\n",
    "    rising_edge_index = np.where((signal [:-1] < threshold) & (signal [1:] > threshold))\n",
    "    rising_edge_index = rising_edge_index[0]+1\n",
    "    falling_edge_index = np.where((signal [:-1] > threshold) & (signal [1:] < threshold))\n",
    "    falling_edge_index = falling_edge_index[0]\n",
    "    return rising_edge_index,falling_edge_index"
   ]
  },
  {
   "cell_type": "code",
   "execution_count": 69,
   "id": "6899e017",
   "metadata": {},
   "outputs": [],
   "source": [
    "SERVO = edge_detection(servo,3)"
   ]
  },
  {
   "cell_type": "code",
   "execution_count": 71,
   "id": "e7c9d573",
   "metadata": {},
   "outputs": [
    {
     "data": {
      "text/plain": [
       "(2, 1960)"
      ]
     },
     "execution_count": 71,
     "metadata": {},
     "output_type": "execute_result"
    }
   ],
   "source": [
    "np.shape(SERVO)"
   ]
  },
  {
   "cell_type": "code",
   "execution_count": 81,
   "id": "bd45e1d7",
   "metadata": {},
   "outputs": [
    {
     "data": {
      "text/plain": [
       "array([8515. , 8517. , 8518.5, 8520.5, 8522. , 8524. , 8525.5, 8527.5,\n",
       "       8529.5, 8531. , 9096.5, 9098.5, 9100. , 9102. , 9103.5, 9105.5,\n",
       "       9107.5, 9109. , 9111. , 9112.5])"
      ]
     },
     "execution_count": 81,
     "metadata": {},
     "output_type": "execute_result"
    }
   ],
   "source": [
    "SERVO[0][:20]/2\n"
   ]
  },
  {
   "cell_type": "code",
   "execution_count": 79,
   "id": "cf42897d",
   "metadata": {},
   "outputs": [],
   "source": [
    "reward_start = tdms_file['Untitled']['Untitled']"
   ]
  },
  {
   "cell_type": "code",
   "execution_count": 80,
   "id": "c23a18a5",
   "metadata": {},
   "outputs": [
    {
     "data": {
      "text/plain": [
       "array([  8512.,  17616.,  26722.,  35827.,  44934.,  54043.,  63146.,\n",
       "        72255.,  81359.,  90467.,  99568., 108673., 117782., 126888.,\n",
       "       135994., 145098., 154202., 163311., 172418., 181528.])"
      ]
     },
     "execution_count": 80,
     "metadata": {},
     "output_type": "execute_result"
    }
   ],
   "source": [
    "reward_start[:20]"
   ]
  },
  {
   "cell_type": "code",
   "execution_count": null,
   "id": "f908949f",
   "metadata": {},
   "outputs": [],
   "source": []
  }
 ],
 "metadata": {
  "kernelspec": {
   "display_name": "Python 3 (ipykernel)",
   "language": "python",
   "name": "python3"
  },
  "language_info": {
   "codemirror_mode": {
    "name": "ipython",
    "version": 3
   },
   "file_extension": ".py",
   "mimetype": "text/x-python",
   "name": "python",
   "nbconvert_exporter": "python",
   "pygments_lexer": "ipython3",
   "version": "3.9.7"
  }
 },
 "nbformat": 4,
 "nbformat_minor": 5
}
